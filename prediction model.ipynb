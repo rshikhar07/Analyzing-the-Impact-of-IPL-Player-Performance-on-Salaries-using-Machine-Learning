{
 "cells": [
  {
   "cell_type": "code",
   "execution_count": 1,
   "id": "9474b8fe-e7ef-46d6-8148-89584d924af9",
   "metadata": {},
   "outputs": [
    {
     "name": "stdout",
     "output_type": "stream",
     "text": [
      "Shape: (1638, 4)\n"
     ]
    },
    {
     "data": {
      "text/html": [
       "<div>\n",
       "<style scoped>\n",
       "    .dataframe tbody tr th:only-of-type {\n",
       "        vertical-align: middle;\n",
       "    }\n",
       "\n",
       "    .dataframe tbody tr th {\n",
       "        vertical-align: top;\n",
       "    }\n",
       "\n",
       "    .dataframe thead th {\n",
       "        text-align: right;\n",
       "    }\n",
       "</style>\n",
       "<table border=\"1\" class=\"dataframe\">\n",
       "  <thead>\n",
       "    <tr style=\"text-align: right;\">\n",
       "      <th></th>\n",
       "      <th>Player Name</th>\n",
       "      <th>Team Name</th>\n",
       "      <th>Price</th>\n",
       "      <th>Year</th>\n",
       "    </tr>\n",
       "  </thead>\n",
       "  <tbody>\n",
       "    <tr>\n",
       "      <th>0</th>\n",
       "      <td>Ms dhoni</td>\n",
       "      <td>Chennai Super Kings</td>\n",
       "      <td>15 crore</td>\n",
       "      <td>2018</td>\n",
       "    </tr>\n",
       "    <tr>\n",
       "      <th>1</th>\n",
       "      <td>Suresh Raina</td>\n",
       "      <td>Chennai Super Kings</td>\n",
       "      <td>11 crore</td>\n",
       "      <td>2018</td>\n",
       "    </tr>\n",
       "    <tr>\n",
       "      <th>2</th>\n",
       "      <td>Deepak chahar</td>\n",
       "      <td>Chennai Super Kings</td>\n",
       "      <td>8 crore</td>\n",
       "      <td>2018</td>\n",
       "    </tr>\n",
       "    <tr>\n",
       "      <th>3</th>\n",
       "      <td>Kedar jadhav</td>\n",
       "      <td>Chennai Super Kings</td>\n",
       "      <td>7.8 crore</td>\n",
       "      <td>2018</td>\n",
       "    </tr>\n",
       "    <tr>\n",
       "      <th>4</th>\n",
       "      <td>Ravindra jadeja</td>\n",
       "      <td>Chennai Super Kings</td>\n",
       "      <td>7 crore</td>\n",
       "      <td>2018</td>\n",
       "    </tr>\n",
       "  </tbody>\n",
       "</table>\n",
       "</div>"
      ],
      "text/plain": [
       "       Player Name            Team Name      Price  Year\n",
       "0         Ms dhoni  Chennai Super Kings   15 crore  2018\n",
       "1     Suresh Raina  Chennai Super Kings   11 crore  2018\n",
       "2    Deepak chahar  Chennai Super Kings    8 crore  2018\n",
       "3     Kedar jadhav  Chennai Super Kings  7.8 crore  2018\n",
       "4  Ravindra jadeja  Chennai Super Kings    7 crore  2018"
      ]
     },
     "execution_count": 1,
     "metadata": {},
     "output_type": "execute_result"
    }
   ],
   "source": [
    "import pandas as pd\n",
    "\n",
    "# Load auction data\n",
    "auction_path = \"Auction_Stats/ipl_auction_data_2018_2025.csv\"\n",
    "df_auction = pd.read_csv(auction_path)\n",
    "\n",
    "# Preview the data\n",
    "print(\"Shape:\", df_auction.shape)\n",
    "df_auction.head()\n"
   ]
  },
  {
   "cell_type": "code",
   "execution_count": 2,
   "id": "4ed6b7c4-6a85-4269-a550-24085aac3df7",
   "metadata": {},
   "outputs": [],
   "source": [
    "df_auction['Team Name'] = df_auction['Team Name'].replace({\n",
    "    'Kings XI Punjab': 'Punjab Kings'\n",
    "})\n"
   ]
  },
  {
   "cell_type": "code",
   "execution_count": 3,
   "id": "6714f50a-bbae-48a0-b6f2-10c8443f1013",
   "metadata": {},
   "outputs": [],
   "source": [
    "def convert_numeric_price(value):\n",
    "    try:\n",
    "        value = float(value)\n",
    "        if value > 1e7:  # e.g., 142500000\n",
    "            return round(value / 1e7, 2)\n",
    "    except:\n",
    "        return value\n",
    "    return value\n",
    "\n",
    "# Apply only to those rows\n",
    "df_auction.loc[599:655, 'Price'] = df_auction.loc[599:655, 'Price'].apply(convert_numeric_price)\n"
   ]
  },
  {
   "cell_type": "code",
   "execution_count": 4,
   "id": "b33e5b61-12d4-4d44-bdbd-ae39677c1b1d",
   "metadata": {},
   "outputs": [],
   "source": [
    "import re\n",
    "\n",
    "def clean_price_symbol(row):\n",
    "    if isinstance(row, str):\n",
    "        # Remove non-numeric characters (except commas and digits)\n",
    "        cleaned = re.sub(r'[^\\d,]', '', row)\n",
    "        cleaned = cleaned.replace(\",\", \"\")\n",
    "        try:\n",
    "            return round(int(cleaned) / 1e7, 2)\n",
    "        except:\n",
    "            return None\n",
    "    return row\n",
    "\n",
    "df_auction.loc[808:1011, 'Price'] = df_auction.loc[808:1011, 'Price'].apply(clean_price_symbol)\n"
   ]
  },
  {
   "cell_type": "code",
   "execution_count": 5,
   "id": "cfbfa7e6-cd9b-4b8b-a379-0f32490108c5",
   "metadata": {},
   "outputs": [
    {
     "ename": "KeyError",
     "evalue": "'Price_Cr'",
     "output_type": "error",
     "traceback": [
      "\u001b[1;31m---------------------------------------------------------------------------\u001b[0m",
      "\u001b[1;31mKeyError\u001b[0m                                  Traceback (most recent call last)",
      "File \u001b[1;32m~\\AppData\\Local\\Programs\\Python\\Python311\\Lib\\site-packages\\pandas\\core\\indexes\\base.py:3805\u001b[0m, in \u001b[0;36mIndex.get_loc\u001b[1;34m(self, key)\u001b[0m\n\u001b[0;32m   3804\u001b[0m \u001b[38;5;28;01mtry\u001b[39;00m:\n\u001b[1;32m-> 3805\u001b[0m     \u001b[38;5;28;01mreturn\u001b[39;00m \u001b[38;5;28;43mself\u001b[39;49m\u001b[38;5;241;43m.\u001b[39;49m\u001b[43m_engine\u001b[49m\u001b[38;5;241;43m.\u001b[39;49m\u001b[43mget_loc\u001b[49m\u001b[43m(\u001b[49m\u001b[43mcasted_key\u001b[49m\u001b[43m)\u001b[49m\n\u001b[0;32m   3806\u001b[0m \u001b[38;5;28;01mexcept\u001b[39;00m \u001b[38;5;167;01mKeyError\u001b[39;00m \u001b[38;5;28;01mas\u001b[39;00m err:\n",
      "File \u001b[1;32mindex.pyx:167\u001b[0m, in \u001b[0;36mpandas._libs.index.IndexEngine.get_loc\u001b[1;34m()\u001b[0m\n",
      "File \u001b[1;32mindex.pyx:196\u001b[0m, in \u001b[0;36mpandas._libs.index.IndexEngine.get_loc\u001b[1;34m()\u001b[0m\n",
      "File \u001b[1;32mpandas\\\\_libs\\\\hashtable_class_helper.pxi:7081\u001b[0m, in \u001b[0;36mpandas._libs.hashtable.PyObjectHashTable.get_item\u001b[1;34m()\u001b[0m\n",
      "File \u001b[1;32mpandas\\\\_libs\\\\hashtable_class_helper.pxi:7089\u001b[0m, in \u001b[0;36mpandas._libs.hashtable.PyObjectHashTable.get_item\u001b[1;34m()\u001b[0m\n",
      "\u001b[1;31mKeyError\u001b[0m: 'Price_Cr'",
      "\nThe above exception was the direct cause of the following exception:\n",
      "\u001b[1;31mKeyError\u001b[0m                                  Traceback (most recent call last)",
      "Cell \u001b[1;32mIn[5], line 16\u001b[0m\n\u001b[0;32m     13\u001b[0m     \u001b[38;5;28;01mreturn\u001b[39;00m price\n\u001b[0;32m     15\u001b[0m \u001b[38;5;66;03m# Apply to whole column if not done yet\u001b[39;00m\n\u001b[1;32m---> 16\u001b[0m df_auction[\u001b[38;5;124m'\u001b[39m\u001b[38;5;124mPrice_Cr\u001b[39m\u001b[38;5;124m'\u001b[39m] \u001b[38;5;241m=\u001b[39m \u001b[43mdf_auction\u001b[49m\u001b[43m[\u001b[49m\u001b[38;5;124;43m'\u001b[39;49m\u001b[38;5;124;43mPrice_Cr\u001b[39;49m\u001b[38;5;124;43m'\u001b[39;49m\u001b[43m]\u001b[49m\u001b[38;5;241m.\u001b[39mfillna(\n\u001b[0;32m     17\u001b[0m     df_auction[\u001b[38;5;124m'\u001b[39m\u001b[38;5;124mPrice\u001b[39m\u001b[38;5;124m'\u001b[39m]\u001b[38;5;241m.\u001b[39mapply(convert_price_string)\n\u001b[0;32m     18\u001b[0m )\n",
      "File \u001b[1;32m~\\AppData\\Local\\Programs\\Python\\Python311\\Lib\\site-packages\\pandas\\core\\frame.py:4102\u001b[0m, in \u001b[0;36mDataFrame.__getitem__\u001b[1;34m(self, key)\u001b[0m\n\u001b[0;32m   4100\u001b[0m \u001b[38;5;28;01mif\u001b[39;00m \u001b[38;5;28mself\u001b[39m\u001b[38;5;241m.\u001b[39mcolumns\u001b[38;5;241m.\u001b[39mnlevels \u001b[38;5;241m>\u001b[39m \u001b[38;5;241m1\u001b[39m:\n\u001b[0;32m   4101\u001b[0m     \u001b[38;5;28;01mreturn\u001b[39;00m \u001b[38;5;28mself\u001b[39m\u001b[38;5;241m.\u001b[39m_getitem_multilevel(key)\n\u001b[1;32m-> 4102\u001b[0m indexer \u001b[38;5;241m=\u001b[39m \u001b[38;5;28;43mself\u001b[39;49m\u001b[38;5;241;43m.\u001b[39;49m\u001b[43mcolumns\u001b[49m\u001b[38;5;241;43m.\u001b[39;49m\u001b[43mget_loc\u001b[49m\u001b[43m(\u001b[49m\u001b[43mkey\u001b[49m\u001b[43m)\u001b[49m\n\u001b[0;32m   4103\u001b[0m \u001b[38;5;28;01mif\u001b[39;00m is_integer(indexer):\n\u001b[0;32m   4104\u001b[0m     indexer \u001b[38;5;241m=\u001b[39m [indexer]\n",
      "File \u001b[1;32m~\\AppData\\Local\\Programs\\Python\\Python311\\Lib\\site-packages\\pandas\\core\\indexes\\base.py:3812\u001b[0m, in \u001b[0;36mIndex.get_loc\u001b[1;34m(self, key)\u001b[0m\n\u001b[0;32m   3807\u001b[0m     \u001b[38;5;28;01mif\u001b[39;00m \u001b[38;5;28misinstance\u001b[39m(casted_key, \u001b[38;5;28mslice\u001b[39m) \u001b[38;5;129;01mor\u001b[39;00m (\n\u001b[0;32m   3808\u001b[0m         \u001b[38;5;28misinstance\u001b[39m(casted_key, abc\u001b[38;5;241m.\u001b[39mIterable)\n\u001b[0;32m   3809\u001b[0m         \u001b[38;5;129;01mand\u001b[39;00m \u001b[38;5;28many\u001b[39m(\u001b[38;5;28misinstance\u001b[39m(x, \u001b[38;5;28mslice\u001b[39m) \u001b[38;5;28;01mfor\u001b[39;00m x \u001b[38;5;129;01min\u001b[39;00m casted_key)\n\u001b[0;32m   3810\u001b[0m     ):\n\u001b[0;32m   3811\u001b[0m         \u001b[38;5;28;01mraise\u001b[39;00m InvalidIndexError(key)\n\u001b[1;32m-> 3812\u001b[0m     \u001b[38;5;28;01mraise\u001b[39;00m \u001b[38;5;167;01mKeyError\u001b[39;00m(key) \u001b[38;5;28;01mfrom\u001b[39;00m \u001b[38;5;21;01merr\u001b[39;00m\n\u001b[0;32m   3813\u001b[0m \u001b[38;5;28;01mexcept\u001b[39;00m \u001b[38;5;167;01mTypeError\u001b[39;00m:\n\u001b[0;32m   3814\u001b[0m     \u001b[38;5;66;03m# If we have a listlike key, _check_indexing_error will raise\u001b[39;00m\n\u001b[0;32m   3815\u001b[0m     \u001b[38;5;66;03m#  InvalidIndexError. Otherwise we fall through and re-raise\u001b[39;00m\n\u001b[0;32m   3816\u001b[0m     \u001b[38;5;66;03m#  the TypeError.\u001b[39;00m\n\u001b[0;32m   3817\u001b[0m     \u001b[38;5;28mself\u001b[39m\u001b[38;5;241m.\u001b[39m_check_indexing_error(key)\n",
      "\u001b[1;31mKeyError\u001b[0m: 'Price_Cr'"
     ]
    }
   ],
   "source": [
    "# Reload original 'Price' column before dropping if you haven't\n",
    "# If it's already dropped, skip to the next cell\n",
    "\n",
    "# Handle '15 crore'-style prices\n",
    "def convert_price_string(price):\n",
    "    if pd.isna(price):\n",
    "        return None\n",
    "    if isinstance(price, str) and 'crore' in price.lower():\n",
    "        try:\n",
    "            return float(price.lower().replace(\"crore\", \"\").strip())\n",
    "        except:\n",
    "            return None\n",
    "    return price\n",
    "\n",
    "# Apply to whole column if not done yet\n",
    "df_auction['Price_Cr'] = df_auction['Price_Cr'].fillna(\n",
    "    df_auction['Price'].apply(convert_price_string)\n",
    ")\n"
   ]
  },
  {
   "cell_type": "code",
   "execution_count": 6,
   "id": "5f7b4b83-fb26-4777-a9b7-7684104d3c78",
   "metadata": {},
   "outputs": [
    {
     "data": {
      "text/html": [
       "<div>\n",
       "<style scoped>\n",
       "    .dataframe tbody tr th:only-of-type {\n",
       "        vertical-align: middle;\n",
       "    }\n",
       "\n",
       "    .dataframe tbody tr th {\n",
       "        vertical-align: top;\n",
       "    }\n",
       "\n",
       "    .dataframe thead th {\n",
       "        text-align: right;\n",
       "    }\n",
       "</style>\n",
       "<table border=\"1\" class=\"dataframe\">\n",
       "  <thead>\n",
       "    <tr style=\"text-align: right;\">\n",
       "      <th></th>\n",
       "      <th>Player Name</th>\n",
       "      <th>Price</th>\n",
       "      <th>Price_Cr</th>\n",
       "    </tr>\n",
       "  </thead>\n",
       "  <tbody>\n",
       "    <tr>\n",
       "      <th>0</th>\n",
       "      <td>Ms dhoni</td>\n",
       "      <td>15 crore</td>\n",
       "      <td>15.0</td>\n",
       "    </tr>\n",
       "    <tr>\n",
       "      <th>1</th>\n",
       "      <td>Suresh Raina</td>\n",
       "      <td>11 crore</td>\n",
       "      <td>11.0</td>\n",
       "    </tr>\n",
       "    <tr>\n",
       "      <th>2</th>\n",
       "      <td>Deepak chahar</td>\n",
       "      <td>8 crore</td>\n",
       "      <td>8.0</td>\n",
       "    </tr>\n",
       "    <tr>\n",
       "      <th>3</th>\n",
       "      <td>Kedar jadhav</td>\n",
       "      <td>7.8 crore</td>\n",
       "      <td>7.8</td>\n",
       "    </tr>\n",
       "    <tr>\n",
       "      <th>4</th>\n",
       "      <td>Ravindra jadeja</td>\n",
       "      <td>7 crore</td>\n",
       "      <td>7.0</td>\n",
       "    </tr>\n",
       "    <tr>\n",
       "      <th>5</th>\n",
       "      <td>Dwayne bravo</td>\n",
       "      <td>6.4 crore</td>\n",
       "      <td>6.4</td>\n",
       "    </tr>\n",
       "    <tr>\n",
       "      <th>6</th>\n",
       "      <td>Karn sharma</td>\n",
       "      <td>5 crore</td>\n",
       "      <td>5.0</td>\n",
       "    </tr>\n",
       "    <tr>\n",
       "      <th>7</th>\n",
       "      <td>Shane watson</td>\n",
       "      <td>4 crore</td>\n",
       "      <td>4.0</td>\n",
       "    </tr>\n",
       "    <tr>\n",
       "      <th>8</th>\n",
       "      <td>Shardul thakur</td>\n",
       "      <td>2.6 crore</td>\n",
       "      <td>2.6</td>\n",
       "    </tr>\n",
       "    <tr>\n",
       "      <th>9</th>\n",
       "      <td>Ambati rayudu</td>\n",
       "      <td>2.2 crore</td>\n",
       "      <td>2.2</td>\n",
       "    </tr>\n",
       "  </tbody>\n",
       "</table>\n",
       "</div>"
      ],
      "text/plain": [
       "       Player Name      Price  Price_Cr\n",
       "0         Ms dhoni   15 crore      15.0\n",
       "1     Suresh Raina   11 crore      11.0\n",
       "2    Deepak chahar    8 crore       8.0\n",
       "3     Kedar jadhav  7.8 crore       7.8\n",
       "4  Ravindra jadeja    7 crore       7.0\n",
       "5     Dwayne bravo  6.4 crore       6.4\n",
       "6      Karn sharma    5 crore       5.0\n",
       "7     Shane watson    4 crore       4.0\n",
       "8   Shardul thakur  2.6 crore       2.6\n",
       "9    Ambati rayudu  2.2 crore       2.2"
      ]
     },
     "execution_count": 6,
     "metadata": {},
     "output_type": "execute_result"
    }
   ],
   "source": [
    "import re\n",
    "\n",
    "# Full price conversion function\n",
    "def clean_price(price):\n",
    "    if pd.isna(price):\n",
    "        return None\n",
    "\n",
    "    # Case 1: Already float or int\n",
    "    try:\n",
    "        price = float(price)\n",
    "        if price > 1e7:\n",
    "            return round(price / 1e7, 2)\n",
    "        else:\n",
    "            return round(price, 2)\n",
    "    except:\n",
    "        pass\n",
    "\n",
    "    # Case 2: '15 crore'\n",
    "    if isinstance(price, str) and 'crore' in price.lower():\n",
    "        try:\n",
    "            return float(price.lower().replace(\"crore\", \"\").strip())\n",
    "        except:\n",
    "            return None\n",
    "\n",
    "    # Case 3: ₹1,50,00,000 or corrupted versions\n",
    "    if isinstance(price, str):\n",
    "        # Remove non-digit characters\n",
    "        cleaned = re.sub(r'[^\\d]', '', price)\n",
    "        try:\n",
    "            return round(int(cleaned) / 1e7, 2)\n",
    "        except:\n",
    "            return None\n",
    "\n",
    "    return None\n",
    "\n",
    "# Apply to entire 'Price' column\n",
    "df_auction['Price_Cr'] = df_auction['Price'].apply(clean_price)\n",
    "\n",
    "# Preview cleaned prices\n",
    "df_auction[['Player Name', 'Price', 'Price_Cr']].head(10)\n"
   ]
  },
  {
   "cell_type": "code",
   "execution_count": 7,
   "id": "75fb2a83-671f-4e18-a6b9-1a8ce273ce62",
   "metadata": {},
   "outputs": [],
   "source": [
    "# Save cleaned auction data to CSV\n",
    "df_auction.to_csv(\"cleaned_ipl_auction_data.csv\", index=False)\n"
   ]
  },
  {
   "cell_type": "code",
   "execution_count": 44,
   "id": "7c53477c-ffe7-4f02-8461-6d352d2e1af1",
   "metadata": {},
   "outputs": [
    {
     "name": "stdout",
     "output_type": "stream",
     "text": [
      " Files found in folder:\n",
      "most_wickets_2018.csv\n",
      "most_wickets_2019.csv\n",
      "most_wickets_2020.csv\n",
      "most_wickets_2021.csv\n",
      "most_wickets_2022.csv\n",
      "most_wickets_2023.csv\n",
      "most_wickets_2024.csv\n",
      "most_wickets_2025.csv\n",
      "top_run_scorers_2018.csv\n",
      "top_run_scorers_2019.csv\n",
      "top_run_scorers_2020.csv\n",
      "top_run_scorers_2021.csv\n",
      "top_run_scorers_2022.csv\n",
      "top_run_scorers_2023.csv\n",
      "top_run_scorers_2024.csv\n",
      "top_run_scorers_2025.csv\n"
     ]
    }
   ],
   "source": [
    "import os\n",
    "\n",
    "base_folder = r\"C:\\Users\\Asus\\OneDrive\\Desktop\\LS 2025\\IPL_ML\\Performance Stats\"\n",
    "\n",
    "# List all files in the folder\n",
    "files = os.listdir(base_folder)\n",
    "\n",
    "print(\" Files found in folder:\")\n",
    "for f in files:\n",
    "    print(f)\n"
   ]
  },
  {
   "cell_type": "code",
   "execution_count": 14,
   "id": "da280b36-9f23-43bc-831c-f915ff57a02c",
   "metadata": {},
   "outputs": [
    {
     "name": "stdout",
     "output_type": "stream",
     "text": [
      "✅ Saved: most_wickets_merged.csv\n",
      "✅ Saved: top_run_scorers_merged.csv\n"
     ]
    }
   ],
   "source": [
    "import os\n",
    "import pandas as pd\n",
    "\n",
    "base_folder = r\"C:\\Users\\Asus\\OneDrive\\Desktop\\LS 2025\\IPL_ML\\Performance Stats\"\n",
    "\n",
    "wickets_dfs = []\n",
    "batting_dfs = []\n",
    "\n",
    "# Loop through all CSV files\n",
    "for file in os.listdir(base_folder):\n",
    "    if file.endswith(\".csv\"):\n",
    "        file_path = os.path.join(base_folder, file)\n",
    "        df = pd.read_csv(file_path)\n",
    "\n",
    "        # Extract year\n",
    "        year_digits = ''.join(filter(str.isdigit, file))\n",
    "        if not year_digits:\n",
    "            continue\n",
    "        df[\"Year\"] = int(year_digits)\n",
    "\n",
    "        file_lower = file.lower()\n",
    "\n",
    "        if \"most_wickets\" in file_lower:\n",
    "            wickets_dfs.append(df)\n",
    "        elif \"top_run_scorers\" in file_lower:\n",
    "            batting_dfs.append(df)\n",
    "\n",
    "# Merge and save most wickets\n",
    "if wickets_dfs:\n",
    "    df_wickets = pd.concat(wickets_dfs, ignore_index=True)\n",
    "    df_wickets.to_csv(\"most_wickets_merged.csv\", index=False)\n",
    "    print(\"✅ Saved: most_wickets_merged.csv\")\n",
    "else:\n",
    "    print(\"⚠️ No 'most_wickets' files matched.\")\n",
    "\n",
    "# Merge and save top run scorers\n",
    "if batting_dfs:\n",
    "    df_batting = pd.concat(batting_dfs, ignore_index=True)\n",
    "    df_batting.to_csv(\"top_run_scorers_merged.csv\", index=False)\n",
    "    print(\"✅ Saved: top_run_scorers_merged.csv\")\n",
    "else:\n",
    "    print(\"⚠️ No 'top_run_scorers' files matched.\")\n"
   ]
  },
  {
   "cell_type": "code",
   "execution_count": 18,
   "id": "cd9d17e4-8885-4c20-96ae-c693b812387d",
   "metadata": {},
   "outputs": [
    {
     "name": "stdout",
     "output_type": "stream",
     "text": [
      "✅ Saved: most_wickets_cleaned.csv\n"
     ]
    }
   ],
   "source": [
    "import pandas as pd\n",
    "\n",
    "# Load merged bowling file\n",
    "df_wickets = pd.read_csv(\"most_wickets_merged.csv\")\n",
    "\n",
    "# Required columns\n",
    "required_cols = [\n",
    "    \"BowlerName\", \"TeamName\", \"Matches\", \"TotalRunsConceded\", \"DotBallsBowled\",\n",
    "    \"ScoringBallsBowled\", \"BowlingAverage\", \"StrikeRate\", \"BoundaryPercentage\",\n",
    "    \"BoundaryFrequency\", \"EconomyRate\", \"OversBowled\", \"Wides\", \"NoBalls\",\n",
    "    \"Wickets\", \"Maidens\", \"FourWickets\", \"FiveWickets\", \"Hattricks\", \"Year\"\n",
    "\n",
    "]\n",
    "\n",
    "# Filter and save\n",
    "df_wickets_cleaned = df_wickets[required_cols]\n",
    "df_wickets_cleaned.to_csv(\"most_wickets_cleaned.csv\", index=False)\n",
    "\n",
    "print(\"✅ Saved: most_wickets_cleaned.csv\")\n"
   ]
  },
  {
   "cell_type": "code",
   "execution_count": 19,
   "id": "fc213634-293f-47b0-89c1-47a6ccdc04d6",
   "metadata": {},
   "outputs": [
    {
     "name": "stdout",
     "output_type": "stream",
     "text": [
      "✅ Saved: top_run_scorers_cleaned.csv\n"
     ]
    }
   ],
   "source": [
    "import pandas as pd\n",
    "\n",
    "# Load merged batting file\n",
    "df_batting = pd.read_csv(\"top_run_scorers_merged.csv\")\n",
    "\n",
    "# Keep only required columns\n",
    "columns_to_keep = [\n",
    "    \"StrikerName\", \"TeamName\", \"Matches\", \"TotalRuns\", \"Balls\", \"Dotballs\",\n",
    "    \"StrikeRate\", \"Fours\", \"Sixes\", \"Outs\", \"NotOuts\", \"BattingAverage\",\n",
    "    \"FiftyPlusRuns\", \"Centuries\", \"HighestScore\", \"Year\"\n",
    "]\n",
    "\n",
    "df_batting_cleaned = df_batting[columns_to_keep]\n",
    "\n",
    "# Save cleaned version\n",
    "df_batting_cleaned.to_csv(\"top_run_scorers_cleaned.csv\", index=False)\n",
    "print(\"✅ Saved: top_run_scorers_cleaned.csv\")\n"
   ]
  },
  {
   "cell_type": "code",
   "execution_count": 22,
   "id": "c76d6d89-9960-42a6-b989-d4de50e9630f",
   "metadata": {},
   "outputs": [
    {
     "name": "stdout",
     "output_type": "stream",
     "text": [
      "✅ Saved: merged_ipl_dataset.csv\n",
      "🧾 Shape: (532, 37)\n"
     ]
    }
   ],
   "source": [
    "import pandas as pd\n",
    "\n",
    "# Load cleaned files\n",
    "df_auction = pd.read_csv(\"cleaned_ipl_auction_data.csv\")\n",
    "df_batting = pd.read_csv(\"top_run_scorers_cleaned.csv\")\n",
    "df_bowling = pd.read_csv(\"most_wickets_cleaned.csv\")\n",
    "\n",
    "# Standardize player name columns\n",
    "df_batting = df_batting.rename(columns={\"StrikerName\": \"Player_Name\"})\n",
    "df_bowling = df_bowling.rename(columns={\"BowlerName\": \"Player_Name\"})\n",
    "df_auction = df_auction.rename(columns={\"Player Name\": \"Player_Name\"})\n",
    "\n",
    "# Merge batting + bowling\n",
    "df_performance = pd.merge(\n",
    "    df_batting,\n",
    "    df_bowling,\n",
    "    on=[\"Player_Name\", \"Year\"],\n",
    "    how=\"outer\",\n",
    "    suffixes=(\"_bat\", \"_bowl\")\n",
    ")\n",
    "\n",
    "# Merge with auction\n",
    "df_final = pd.merge(\n",
    "    df_performance,\n",
    "    df_auction,\n",
    "    on=[\"Player_Name\", \"Year\"],\n",
    "    how=\"inner\"\n",
    ")\n",
    "\n",
    "# Save to CSV\n",
    "df_final.to_csv(\"merged_ipl_dataset.csv\", index=False)\n",
    "print(\"✅ Saved: merged_ipl_dataset.csv\")\n",
    "print(\"🧾 Shape:\", df_final.shape)\n"
   ]
  },
  {
   "cell_type": "code",
   "execution_count": 23,
   "id": "1706127c-c595-4e64-9260-2eb641498840",
   "metadata": {},
   "outputs": [
    {
     "name": "stdout",
     "output_type": "stream",
     "text": [
      "✅ After dropping rows with missing Price_Cr:\n",
      "Rows: 532\n",
      "Columns: 37\n"
     ]
    }
   ],
   "source": [
    "import pandas as pd\n",
    "\n",
    "# Load merged dataset\n",
    "df = pd.read_csv(\"merged_ipl_dataset.csv\")\n",
    "\n",
    "# Drop rows with missing Price_Cr\n",
    "df = df.dropna(subset=[\"Price_Cr\"])\n",
    "\n",
    "print(\"✅ After dropping rows with missing Price_Cr:\")\n",
    "print(\"Rows:\", df.shape[0])\n",
    "print(\"Columns:\", df.shape[1])\n",
    "\n",
    "# Optional: Save intermediate version\n",
    "df.to_csv(\"ipl_dataset_step1.csv\", index=False)\n"
   ]
  },
  {
   "cell_type": "code",
   "execution_count": 24,
   "id": "841d0b55-d35b-436f-9ba5-6182495ecc00",
   "metadata": {},
   "outputs": [
    {
     "name": "stdout",
     "output_type": "stream",
     "text": [
      "🧼 Remaining missing values: 0\n"
     ]
    }
   ],
   "source": [
    "# Separate numeric and categorical columns\n",
    "numeric_cols = df.select_dtypes(include=[\"number\"]).columns\n",
    "categorical_cols = df.select_dtypes(include=[\"object\"]).columns\n",
    "\n",
    "# Fill numeric columns with 0\n",
    "df[numeric_cols] = df[numeric_cols].fillna(0)\n",
    "\n",
    "# Fill categorical columns with \"Unknown\"\n",
    "df[categorical_cols] = df[categorical_cols].fillna(\"Unknown\")\n",
    "\n",
    "# Check remaining nulls (should be 0)\n",
    "print(\"🧼 Remaining missing values:\", df.isna().sum().sum())\n"
   ]
  },
  {
   "cell_type": "code",
   "execution_count": 25,
   "id": "0761d7b0-9697-40e4-b0e0-9143a080af2d",
   "metadata": {},
   "outputs": [
    {
     "name": "stdout",
     "output_type": "stream",
     "text": [
      "✅ One-hot encoding complete.\n",
      "🔢 Final shape: (532, 702)\n"
     ]
    }
   ],
   "source": [
    "# Identify categorical columns (object type)\n",
    "categorical_cols = df.select_dtypes(include=[\"object\"]).columns\n",
    "\n",
    "# Exclude Player_Name — keep it for merging/reference, not model input\n",
    "categorical_cols = [col for col in categorical_cols if col not in [\"Player_Name\"]]\n",
    "\n",
    "# One-Hot Encode\n",
    "df_encoded = pd.get_dummies(df, columns=categorical_cols, drop_first=True)\n",
    "\n",
    "print(\"✅ One-hot encoding complete.\")\n",
    "print(\"🔢 Final shape:\", df_encoded.shape)\n"
   ]
  },
  {
   "cell_type": "code",
   "execution_count": 26,
   "id": "a97d66a2-551f-4e5c-a284-ae3d4aebf755",
   "metadata": {},
   "outputs": [
    {
     "name": "stdout",
     "output_type": "stream",
     "text": [
      "✅ Features shape: (532, 700)\n",
      "🎯 Target shape: (532,)\n"
     ]
    }
   ],
   "source": [
    "# Drop non-feature columns\n",
    "X = df_encoded.drop(columns=[\"Price_Cr\", \"Player_Name\"])\n",
    "y = df_encoded[\"Price_Cr\"]\n",
    "\n",
    "print(\"✅ Features shape:\", X.shape)\n",
    "print(\"🎯 Target shape:\", y.shape)\n"
   ]
  },
  {
   "cell_type": "code",
   "execution_count": 27,
   "id": "455a74ef-08bb-4595-87d4-21032c528501",
   "metadata": {},
   "outputs": [
    {
     "name": "stdout",
     "output_type": "stream",
     "text": [
      "✅ Train shape: (425, 700)\n",
      "🧪 Test shape: (107, 700)\n"
     ]
    }
   ],
   "source": [
    "from sklearn.model_selection import train_test_split\n",
    "\n",
    "# Split the data\n",
    "X_train, X_test, y_train, y_test = train_test_split(\n",
    "    X, y, test_size=0.2, random_state=42\n",
    ")\n",
    "\n",
    "print(\"✅ Train shape:\", X_train.shape)\n",
    "print(\"🧪 Test shape:\", X_test.shape)\n"
   ]
  },
  {
   "cell_type": "code",
   "execution_count": 28,
   "id": "6384ea74-8409-445b-9bca-79456fe970aa",
   "metadata": {},
   "outputs": [
    {
     "name": "stdout",
     "output_type": "stream",
     "text": [
      "✅ All cleaned datasets saved:\n",
      "- X_train.csv\n",
      "- y_train.csv\n",
      "- X_test.csv\n",
      "- y_test.csv\n"
     ]
    }
   ],
   "source": [
    "# Save training data\n",
    "X_train.to_csv(\"X_train.csv\", index=False)\n",
    "y_train.to_csv(\"y_train.csv\", index=False)\n",
    "\n",
    "# Save testing data\n",
    "X_test.to_csv(\"X_test.csv\", index=False)\n",
    "y_test.to_csv(\"y_test.csv\", index=False)\n",
    "\n",
    "print(\"✅ All cleaned datasets saved:\")\n",
    "print(\"- X_train.csv\")\n",
    "print(\"- y_train.csv\")\n",
    "print(\"- X_test.csv\")\n",
    "print(\"- y_test.csv\")\n"
   ]
  },
  {
   "cell_type": "code",
   "execution_count": 29,
   "id": "0880adb8-38d1-40c6-be91-dc542e3e44e1",
   "metadata": {},
   "outputs": [
    {
     "name": "stdout",
     "output_type": "stream",
     "text": [
      "📈 Model Performance:\n",
      "✅ R² Score: 0.313\n",
      "📉 MAE: ₹2.20 Cr\n",
      "📉 RMSE: ₹3.58 Cr\n"
     ]
    },
    {
     "name": "stderr",
     "output_type": "stream",
     "text": [
      "C:\\Users\\Asus\\AppData\\Local\\Temp\\ipykernel_21544\\4045411798.py:38: UserWarning: Glyph 127919 (\\N{DIRECT HIT}) missing from font(s) DejaVu Sans.\n",
      "  plt.tight_layout()\n",
      "C:\\Users\\Asus\\AppData\\Local\\Programs\\Python\\Python311\\Lib\\site-packages\\IPython\\core\\pylabtools.py:170: UserWarning: Glyph 127919 (\\N{DIRECT HIT}) missing from font(s) DejaVu Sans.\n",
      "  fig.canvas.print_figure(bytes_io, **kw)\n"
     ]
    },
    {
     "data": {
      "image/png": "[encoded data removed]",
      "text/plain": [
       "<Figure size 800x600 with 1 Axes>"
      ]
     },
     "metadata": {},
     "output_type": "display_data"
    }
   ],
   "source": [
    "from sklearn.ensemble import RandomForestRegressor\n",
    "from sklearn.metrics import mean_absolute_error, mean_squared_error, r2_score\n",
    "import numpy as np\n",
    "import matplotlib.pyplot as plt\n",
    "\n",
    "# Load training and testing sets (in case you're starting fresh)\n",
    "import pandas as pd\n",
    "X_train = pd.read_csv(\"X_train.csv\")\n",
    "y_train = pd.read_csv(\"y_train.csv\").values.ravel()  # flatten if needed\n",
    "X_test = pd.read_csv(\"X_test.csv\")\n",
    "y_test = pd.read_csv(\"y_test.csv\").values.ravel()\n",
    "\n",
    "# 1. Train Random Forest\n",
    "model = RandomForestRegressor(n_estimators=100, random_state=42)\n",
    "model.fit(X_train, y_train)\n",
    "\n",
    "# 2. Predict\n",
    "y_pred = model.predict(X_test)\n",
    "\n",
    "# 3. Evaluation\n",
    "r2 = r2_score(y_test, y_pred)\n",
    "mae = mean_absolute_error(y_test, y_pred)\n",
    "rmse = np.sqrt(mean_squared_error(y_test, y_pred))\n",
    "\n",
    "print(\"📈 Model Performance:\")\n",
    "print(f\"✅ R² Score: {r2:.3f}\")\n",
    "print(f\"📉 MAE: ₹{mae:.2f} Cr\")\n",
    "print(f\"📉 RMSE: ₹{rmse:.2f} Cr\")\n",
    "\n",
    "# 4. Plot Actual vs Predicted\n",
    "plt.figure(figsize=(8, 6))\n",
    "plt.scatter(y_test, y_pred, alpha=0.7, color='royalblue')\n",
    "plt.plot([min(y_test), max(y_test)], [min(y_test), max(y_test)], color='red', linestyle='--')\n",
    "plt.xlabel(\"Actual Price (Cr)\")\n",
    "plt.ylabel(\"Predicted Price (Cr)\")\n",
    "plt.title(\"🎯 Actual vs Predicted Auction Prices\")\n",
    "plt.grid(True)\n",
    "plt.tight_layout()\n",
    "plt.show()\n"
   ]
  },
  {
   "cell_type": "code",
   "execution_count": 30,
   "id": "d0e0d366-7525-4fd0-9119-71a2c424d625",
   "metadata": {},
   "outputs": [
    {
     "name": "stdout",
     "output_type": "stream",
     "text": [
      "Collecting xgboost\n",
      "  Downloading xgboost-3.0.2-py3-none-win_amd64.whl.metadata (2.1 kB)\n",
      "Requirement already satisfied: numpy in c:\\users\\asus\\appdata\\local\\programs\\python\\python311\\lib\\site-packages (from xgboost) (1.24.4)\n",
      "Requirement already satisfied: scipy in c:\\users\\asus\\appdata\\local\\programs\\python\\python311\\lib\\site-packages (from xgboost) (1.11.3)\n",
      "Downloading xgboost-3.0.2-py3-none-win_amd64.whl (150.0 MB)\n",
      "   ---------------------------------------- 0.0/150.0 MB ? eta -:--:--\n",
      "   ---------------------------------------- 1.0/150.0 MB 10.1 MB/s eta 0:00:15\n",
      "   - -------------------------------------- 6.8/150.0 MB 28.0 MB/s eta 0:00:06\n",
      "   --- ------------------------------------ 12.8/150.0 MB 26.0 MB/s eta 0:00:06\n",
      "   ---- ----------------------------------- 15.7/150.0 MB 22.5 MB/s eta 0:00:06\n",
      "   ---- ----------------------------------- 17.6/150.0 MB 20.1 MB/s eta 0:00:07\n",
      "   ---- ----------------------------------- 18.6/150.0 MB 16.5 MB/s eta 0:00:08\n",
      "   ----- ---------------------------------- 19.1/150.0 MB 14.7 MB/s eta 0:00:09\n",
      "   ----- ---------------------------------- 19.4/150.0 MB 12.9 MB/s eta 0:00:11\n",
      "   ----- ---------------------------------- 19.4/150.0 MB 12.9 MB/s eta 0:00:11\n",
      "   ----- ---------------------------------- 19.7/150.0 MB 9.9 MB/s eta 0:00:14\n",
      "   ----- ---------------------------------- 19.7/150.0 MB 9.9 MB/s eta 0:00:14\n",
      "   ----- ---------------------------------- 19.9/150.0 MB 8.4 MB/s eta 0:00:16\n",
      "   ----- ---------------------------------- 19.9/150.0 MB 8.4 MB/s eta 0:00:16\n",
      "   ----- ---------------------------------- 20.2/150.0 MB 7.6 MB/s eta 0:00:18\n",
      "   ----- ---------------------------------- 20.4/150.0 MB 7.0 MB/s eta 0:00:19\n",
      "   ----- ---------------------------------- 20.7/150.0 MB 6.5 MB/s eta 0:00:20\n",
      "   ----- ---------------------------------- 21.0/150.0 MB 6.2 MB/s eta 0:00:21\n",
      "   ----- ---------------------------------- 21.2/150.0 MB 5.9 MB/s eta 0:00:22\n",
      "   ----- ---------------------------------- 21.5/150.0 MB 5.7 MB/s eta 0:00:23\n",
      "   ----- ---------------------------------- 21.8/150.0 MB 5.5 MB/s eta 0:00:24\n",
      "   ----- ---------------------------------- 22.3/150.0 MB 5.2 MB/s eta 0:00:25\n",
      "   ------ --------------------------------- 22.5/150.0 MB 5.1 MB/s eta 0:00:26\n",
      "   ------ --------------------------------- 23.1/150.0 MB 4.9 MB/s eta 0:00:26\n",
      "   ------ --------------------------------- 23.3/150.0 MB 4.8 MB/s eta 0:00:27\n",
      "   ------ --------------------------------- 23.9/150.0 MB 4.7 MB/s eta 0:00:28\n",
      "   ------ --------------------------------- 24.4/150.0 MB 4.5 MB/s eta 0:00:28\n",
      "   ------ --------------------------------- 24.9/150.0 MB 4.5 MB/s eta 0:00:29\n",
      "   ------ --------------------------------- 25.2/150.0 MB 4.4 MB/s eta 0:00:29\n",
      "   ------ --------------------------------- 25.7/150.0 MB 4.3 MB/s eta 0:00:29\n",
      "   ------- -------------------------------- 26.5/150.0 MB 4.3 MB/s eta 0:00:30\n",
      "   ------- -------------------------------- 26.7/150.0 MB 4.2 MB/s eta 0:00:30\n",
      "   ------- -------------------------------- 27.0/150.0 MB 4.2 MB/s eta 0:00:30\n",
      "   ------- -------------------------------- 27.5/150.0 MB 4.0 MB/s eta 0:00:31\n",
      "   ------- -------------------------------- 27.8/150.0 MB 3.9 MB/s eta 0:00:31\n",
      "   ------- -------------------------------- 28.0/150.0 MB 3.9 MB/s eta 0:00:32\n",
      "   ------- -------------------------------- 28.3/150.0 MB 3.8 MB/s eta 0:00:32\n",
      "   ------- -------------------------------- 28.8/150.0 MB 3.8 MB/s eta 0:00:33\n",
      "   ------- -------------------------------- 29.1/150.0 MB 3.7 MB/s eta 0:00:33\n",
      "   ------- -------------------------------- 29.6/150.0 MB 3.7 MB/s eta 0:00:33\n",
      "   ------- -------------------------------- 29.9/150.0 MB 3.6 MB/s eta 0:00:34\n",
      "   -------- ------------------------------- 30.4/150.0 MB 3.6 MB/s eta 0:00:34\n",
      "   -------- ------------------------------- 30.7/150.0 MB 3.6 MB/s eta 0:00:34\n",
      "   -------- ------------------------------- 31.2/150.0 MB 3.5 MB/s eta 0:00:34\n",
      "   -------- ------------------------------- 31.7/150.0 MB 3.5 MB/s eta 0:00:34\n",
      "   -------- ------------------------------- 32.2/150.0 MB 3.5 MB/s eta 0:00:34\n",
      "   -------- ------------------------------- 32.8/150.0 MB 3.4 MB/s eta 0:00:34\n",
      "   -------- ------------------------------- 33.3/150.0 MB 3.4 MB/s eta 0:00:34\n",
      "   --------- ------------------------------ 34.1/150.0 MB 3.4 MB/s eta 0:00:34\n",
      "   --------- ------------------------------ 34.6/150.0 MB 3.4 MB/s eta 0:00:34\n",
      "   --------- ------------------------------ 35.1/150.0 MB 3.4 MB/s eta 0:00:34\n",
      "   --------- ------------------------------ 35.9/150.0 MB 3.4 MB/s eta 0:00:34\n",
      "   --------- ------------------------------ 36.7/150.0 MB 3.4 MB/s eta 0:00:34\n",
      "   --------- ------------------------------ 37.2/150.0 MB 3.4 MB/s eta 0:00:34\n",
      "   ---------- ----------------------------- 38.0/150.0 MB 3.4 MB/s eta 0:00:33\n",
      "   ---------- ----------------------------- 38.8/150.0 MB 3.4 MB/s eta 0:00:33\n",
      "   ---------- ----------------------------- 39.6/150.0 MB 3.4 MB/s eta 0:00:33\n",
      "   ---------- ----------------------------- 40.4/150.0 MB 3.4 MB/s eta 0:00:33\n",
      "   ---------- ----------------------------- 41.2/150.0 MB 3.4 MB/s eta 0:00:32\n",
      "   ----------- ---------------------------- 41.9/150.0 MB 3.4 MB/s eta 0:00:32\n",
      "   ----------- ---------------------------- 42.7/150.0 MB 3.4 MB/s eta 0:00:32\n",
      "   ----------- ---------------------------- 43.5/150.0 MB 3.4 MB/s eta 0:00:31\n",
      "   ----------- ---------------------------- 44.3/150.0 MB 3.5 MB/s eta 0:00:31\n",
      "   ------------ --------------------------- 45.4/150.0 MB 3.5 MB/s eta 0:00:31\n",
      "   ------------ --------------------------- 46.1/150.0 MB 3.5 MB/s eta 0:00:30\n",
      "   ------------ --------------------------- 47.2/150.0 MB 3.5 MB/s eta 0:00:30\n",
      "   ------------ --------------------------- 48.2/150.0 MB 3.5 MB/s eta 0:00:29\n",
      "   ------------- -------------------------- 49.0/150.0 MB 3.5 MB/s eta 0:00:29\n",
      "   ------------- -------------------------- 50.1/150.0 MB 3.5 MB/s eta 0:00:29\n",
      "   ------------- -------------------------- 51.1/150.0 MB 3.6 MB/s eta 0:00:28\n",
      "   ------------- -------------------------- 51.9/150.0 MB 3.6 MB/s eta 0:00:28\n",
      "   -------------- ------------------------- 52.7/150.0 MB 3.6 MB/s eta 0:00:28\n",
      "   -------------- ------------------------- 53.5/150.0 MB 3.6 MB/s eta 0:00:27\n",
      "   -------------- ------------------------- 54.3/150.0 MB 3.6 MB/s eta 0:00:27\n",
      "   -------------- ------------------------- 55.3/150.0 MB 3.6 MB/s eta 0:00:27\n",
      "   -------------- ------------------------- 56.1/150.0 MB 3.6 MB/s eta 0:00:27\n",
      "   --------------- ------------------------ 57.1/150.0 MB 3.6 MB/s eta 0:00:26\n",
      "   --------------- ------------------------ 57.9/150.0 MB 3.6 MB/s eta 0:00:26\n",
      "   --------------- ------------------------ 59.0/150.0 MB 3.6 MB/s eta 0:00:26\n",
      "   ---------------- ----------------------- 60.0/150.0 MB 3.6 MB/s eta 0:00:25\n",
      "   ---------------- ----------------------- 60.8/150.0 MB 3.7 MB/s eta 0:00:25\n",
      "   ---------------- ----------------------- 61.9/150.0 MB 3.7 MB/s eta 0:00:24\n",
      "   ---------------- ----------------------- 62.9/150.0 MB 3.7 MB/s eta 0:00:24\n",
      "   ----------------- ---------------------- 64.0/150.0 MB 3.7 MB/s eta 0:00:24\n",
      "   ----------------- ---------------------- 65.0/150.0 MB 3.7 MB/s eta 0:00:23\n",
      "   ----------------- ---------------------- 66.1/150.0 MB 3.7 MB/s eta 0:00:23\n",
      "   ----------------- ---------------------- 66.6/150.0 MB 3.7 MB/s eta 0:00:23\n",
      "   ----------------- ---------------------- 67.1/150.0 MB 3.7 MB/s eta 0:00:23\n",
      "   ------------------ --------------------- 67.6/150.0 MB 3.7 MB/s eta 0:00:23\n",
      "   ------------------ --------------------- 68.2/150.0 MB 3.7 MB/s eta 0:00:23\n",
      "   ------------------ --------------------- 68.9/150.0 MB 3.7 MB/s eta 0:00:23\n",
      "   ------------------ --------------------- 69.5/150.0 MB 3.7 MB/s eta 0:00:22\n",
      "   ------------------ --------------------- 70.0/150.0 MB 3.7 MB/s eta 0:00:22\n",
      "   ------------------ --------------------- 70.5/150.0 MB 3.6 MB/s eta 0:00:22\n",
      "   ------------------ --------------------- 71.0/150.0 MB 3.6 MB/s eta 0:00:22\n",
      "   ------------------- -------------------- 71.8/150.0 MB 3.6 MB/s eta 0:00:22\n",
      "   ------------------- -------------------- 72.6/150.0 MB 3.6 MB/s eta 0:00:22\n",
      "   ------------------- -------------------- 73.4/150.0 MB 3.6 MB/s eta 0:00:22\n",
      "   ------------------- -------------------- 73.9/150.0 MB 3.6 MB/s eta 0:00:21\n",
      "   ------------------- -------------------- 74.7/150.0 MB 3.6 MB/s eta 0:00:21\n",
      "   -------------------- ------------------- 75.5/150.0 MB 3.6 MB/s eta 0:00:21\n",
      "   -------------------- ------------------- 76.3/150.0 MB 3.6 MB/s eta 0:00:21\n",
      "   -------------------- ------------------- 77.3/150.0 MB 3.6 MB/s eta 0:00:21\n",
      "   -------------------- ------------------- 78.1/150.0 MB 3.6 MB/s eta 0:00:20\n",
      "   --------------------- ------------------ 78.9/150.0 MB 3.6 MB/s eta 0:00:20\n",
      "   --------------------- ------------------ 80.0/150.0 MB 3.6 MB/s eta 0:00:20\n",
      "   --------------------- ------------------ 80.7/150.0 MB 3.7 MB/s eta 0:00:19\n",
      "   --------------------- ------------------ 81.8/150.0 MB 3.7 MB/s eta 0:00:19\n",
      "   ---------------------- ----------------- 82.6/150.0 MB 3.7 MB/s eta 0:00:19\n",
      "   ---------------------- ----------------- 83.6/150.0 MB 3.7 MB/s eta 0:00:19\n",
      "   ---------------------- ----------------- 84.7/150.0 MB 3.7 MB/s eta 0:00:18\n",
      "   ---------------------- ----------------- 85.7/150.0 MB 3.7 MB/s eta 0:00:18\n",
      "   ----------------------- ---------------- 86.8/150.0 MB 3.7 MB/s eta 0:00:18\n",
      "   ----------------------- ---------------- 87.6/150.0 MB 3.7 MB/s eta 0:00:17\n",
      "   ----------------------- ---------------- 88.3/150.0 MB 3.7 MB/s eta 0:00:17\n",
      "   ----------------------- ---------------- 89.1/150.0 MB 3.7 MB/s eta 0:00:17\n",
      "   ----------------------- ---------------- 89.9/150.0 MB 3.7 MB/s eta 0:00:17\n",
      "   ------------------------ --------------- 90.7/150.0 MB 3.7 MB/s eta 0:00:16\n",
      "   ------------------------ --------------- 91.5/150.0 MB 3.7 MB/s eta 0:00:16\n",
      "   ------------------------ --------------- 92.5/150.0 MB 3.7 MB/s eta 0:00:16\n",
      "   ------------------------ --------------- 93.3/150.0 MB 3.7 MB/s eta 0:00:16\n",
      "   ------------------------- -------------- 94.4/150.0 MB 3.7 MB/s eta 0:00:15\n",
      "   ------------------------- -------------- 95.4/150.0 MB 3.7 MB/s eta 0:00:15\n",
      "   ------------------------- -------------- 96.5/150.0 MB 3.8 MB/s eta 0:00:15\n",
      "   -------------------------- ------------- 97.5/150.0 MB 3.8 MB/s eta 0:00:14\n",
      "   -------------------------- ------------- 98.6/150.0 MB 3.8 MB/s eta 0:00:14\n",
      "   -------------------------- ------------- 99.6/150.0 MB 3.8 MB/s eta 0:00:14\n",
      "   -------------------------- ------------- 100.4/150.0 MB 3.8 MB/s eta 0:00:14\n",
      "   --------------------------- ------------ 101.4/150.0 MB 3.8 MB/s eta 0:00:13\n",
      "   --------------------------- ------------ 102.5/150.0 MB 3.8 MB/s eta 0:00:13\n",
      "   --------------------------- ------------ 103.5/150.0 MB 3.8 MB/s eta 0:00:13\n",
      "   --------------------------- ------------ 104.6/150.0 MB 3.8 MB/s eta 0:00:12\n",
      "   ---------------------------- ----------- 105.9/150.0 MB 3.8 MB/s eta 0:00:12\n",
      "   ---------------------------- ----------- 107.0/150.0 MB 3.8 MB/s eta 0:00:12\n",
      "   ---------------------------- ----------- 108.0/150.0 MB 3.9 MB/s eta 0:00:11\n",
      "   ----------------------------- ---------- 109.3/150.0 MB 3.9 MB/s eta 0:00:11\n",
      "   ----------------------------- ---------- 110.4/150.0 MB 3.9 MB/s eta 0:00:11\n",
      "   ----------------------------- ---------- 111.7/150.0 MB 3.9 MB/s eta 0:00:10\n",
      "   ------------------------------ --------- 112.7/150.0 MB 3.9 MB/s eta 0:00:10\n",
      "   ------------------------------ --------- 114.0/150.0 MB 3.9 MB/s eta 0:00:10\n",
      "   ------------------------------ --------- 115.3/150.0 MB 3.9 MB/s eta 0:00:09\n",
      "   ------------------------------- -------- 116.7/150.0 MB 4.0 MB/s eta 0:00:09\n",
      "   ------------------------------- -------- 118.0/150.0 MB 4.0 MB/s eta 0:00:09\n",
      "   ------------------------------- -------- 119.3/150.0 MB 4.0 MB/s eta 0:00:08\n",
      "   -------------------------------- ------- 120.6/150.0 MB 4.0 MB/s eta 0:00:08\n",
      "   -------------------------------- ------- 121.9/150.0 MB 3.8 MB/s eta 0:00:08\n",
      "   -------------------------------- ------- 122.7/150.0 MB 3.7 MB/s eta 0:00:08\n",
      "   --------------------------------- ------ 124.0/150.0 MB 3.7 MB/s eta 0:00:08\n",
      "   --------------------------------- ------ 125.0/150.0 MB 3.6 MB/s eta 0:00:07\n",
      "   --------------------------------- ------ 126.1/150.0 MB 3.6 MB/s eta 0:00:07\n",
      "   --------------------------------- ------ 127.4/150.0 MB 3.6 MB/s eta 0:00:07\n",
      "   ---------------------------------- ----- 128.5/150.0 MB 3.7 MB/s eta 0:00:06\n",
      "   ---------------------------------- ----- 129.8/150.0 MB 3.7 MB/s eta 0:00:06\n",
      "   ---------------------------------- ----- 130.8/150.0 MB 3.7 MB/s eta 0:00:06\n",
      "   ----------------------------------- ---- 132.1/150.0 MB 3.8 MB/s eta 0:00:05\n",
      "   ----------------------------------- ---- 133.2/150.0 MB 3.8 MB/s eta 0:00:05\n",
      "   ----------------------------------- ---- 134.5/150.0 MB 3.8 MB/s eta 0:00:05\n",
      "   ------------------------------------ --- 135.8/150.0 MB 3.9 MB/s eta 0:00:04\n",
      "   ------------------------------------ --- 137.1/150.0 MB 3.9 MB/s eta 0:00:04\n",
      "   ------------------------------------ --- 138.4/150.0 MB 3.9 MB/s eta 0:00:03\n",
      "   ------------------------------------- -- 139.7/150.0 MB 4.0 MB/s eta 0:00:03\n",
      "   ------------------------------------- -- 141.0/150.0 MB 4.0 MB/s eta 0:00:03\n",
      "   -------------------------------------- - 142.6/150.0 MB 4.0 MB/s eta 0:00:02\n",
      "   -------------------------------------- - 143.9/150.0 MB 4.1 MB/s eta 0:00:02\n",
      "   -------------------------------------- - 145.2/150.0 MB 4.1 MB/s eta 0:00:02\n",
      "   ---------------------------------------  146.5/150.0 MB 4.1 MB/s eta 0:00:01\n",
      "   ---------------------------------------  147.8/150.0 MB 4.2 MB/s eta 0:00:01\n",
      "   ---------------------------------------  149.2/150.0 MB 4.2 MB/s eta 0:00:01\n",
      "   ---------------------------------------  149.9/150.0 MB 4.2 MB/s eta 0:00:01\n",
      "   ---------------------------------------- 150.0/150.0 MB 4.2 MB/s eta 0:00:00\n",
      "Installing collected packages: xgboost\n",
      "Successfully installed xgboost-3.0.2\n",
      "Note: you may need to restart the kernel to use updated packages.\n"
     ]
    },
    {
     "name": "stderr",
     "output_type": "stream",
     "text": [
      "WARNING: Ignoring invalid distribution ~orch (C:\\Users\\Asus\\AppData\\Local\\Programs\\Python\\Python311\\Lib\\site-packages)\n",
      "WARNING: Ignoring invalid distribution ~orch (C:\\Users\\Asus\\AppData\\Local\\Programs\\Python\\Python311\\Lib\\site-packages)\n",
      "WARNING: Ignoring invalid distribution ~orch (C:\\Users\\Asus\\AppData\\Local\\Programs\\Python\\Python311\\Lib\\site-packages)\n",
      "\n",
      "[notice] A new release of pip is available: 24.3.1 -> 25.1.1\n",
      "[notice] To update, run: python.exe -m pip install --upgrade pip\n"
     ]
    }
   ],
   "source": [
    "pip install xgboost\n"
   ]
  },
  {
   "cell_type": "code",
   "execution_count": 31,
   "id": "1e00435a-dd20-4ee9-acfd-db5aaa5b66a5",
   "metadata": {},
   "outputs": [
    {
     "name": "stdout",
     "output_type": "stream",
     "text": [
      "📈 XGBoost Performance:\n",
      "✅ R² Score: 0.408\n",
      "📉 MAE: ₹2.03 Cr\n",
      "📉 RMSE: ₹3.32 Cr\n"
     ]
    }
   ],
   "source": [
    "from xgboost import XGBRegressor\n",
    "from sklearn.metrics import r2_score, mean_absolute_error, mean_squared_error\n",
    "import numpy as np\n",
    "\n",
    "# 1. Initialize model\n",
    "xgb_model = XGBRegressor(n_estimators=200, learning_rate=0.05, max_depth=6, random_state=42)\n",
    "\n",
    "# 2. Train\n",
    "xgb_model.fit(X_train, y_train)\n",
    "\n",
    "# 3. Predict\n",
    "y_pred_xgb = xgb_model.predict(X_test)\n",
    "\n",
    "# 4. Evaluate\n",
    "r2 = r2_score(y_test, y_pred_xgb)\n",
    "mae = mean_absolute_error(y_test, y_pred_xgb)\n",
    "rmse = np.sqrt(mean_squared_error(y_test, y_pred_xgb))\n",
    "\n",
    "print(\"📈 XGBoost Performance:\")\n",
    "print(f\"✅ R² Score: {r2:.3f}\")\n",
    "print(f\"📉 MAE: ₹{mae:.2f} Cr\")\n",
    "print(f\"📉 RMSE: ₹{rmse:.2f} Cr\")\n"
   ]
  },
  {
   "cell_type": "code",
   "execution_count": 32,
   "id": "20022fd7-115a-4c64-88a6-f16238d3850a",
   "metadata": {},
   "outputs": [
    {
     "name": "stderr",
     "output_type": "stream",
     "text": [
      "C:\\Users\\Asus\\AppData\\Local\\Temp\\ipykernel_21544\\1925987071.py:11: UserWarning: Glyph 127919 (\\N{DIRECT HIT}) missing from font(s) DejaVu Sans.\n",
      "  plt.tight_layout()\n",
      "C:\\Users\\Asus\\AppData\\Local\\Programs\\Python\\Python311\\Lib\\site-packages\\IPython\\core\\pylabtools.py:170: UserWarning: Glyph 127919 (\\N{DIRECT HIT}) missing from font(s) DejaVu Sans.\n",
      "  fig.canvas.print_figure(bytes_io, **kw)\n"
     ]
    },
    {
     "data": {
      "image/png": "[encoded data removed]",
      "text/plain": [
       "<Figure size 800x600 with 1 Axes>"
      ]
     },
     "metadata": {},
     "output_type": "display_data"
    }
   ],
   "source": [
    "import matplotlib.pyplot as plt\n",
    "\n",
    "# Actual vs Predicted Plot\n",
    "plt.figure(figsize=(8, 6))\n",
    "plt.scatter(y_test, y_pred_xgb, alpha=0.7, color='green')\n",
    "plt.plot([min(y_test), max(y_test)], [min(y_test), max(y_test)], color='red', linestyle='--')\n",
    "plt.xlabel(\"Actual Price (Cr)\")\n",
    "plt.ylabel(\"Predicted Price (Cr)\")\n",
    "plt.title(\"XGBoost 🎯 Actual vs Predicted Auction Prices\")\n",
    "plt.grid(True)\n",
    "plt.tight_layout()\n",
    "plt.show()\n"
   ]
  },
  {
   "cell_type": "code",
   "execution_count": 38,
   "id": "ebfbe811-d921-4a40-b080-d488bb0d37bf",
   "metadata": {},
   "outputs": [
    {
     "name": "stdout",
     "output_type": "stream",
     "text": [
      "Fitting 5 folds for each of 15 candidates, totalling 75 fits\n",
      "✅ Best Params: {'subsample': 1.0, 'n_estimators': 300, 'max_depth': 3, 'learning_rate': 0.05, 'colsample_bytree': 0.8}\n"
     ]
    }
   ],
   "source": [
    "from sklearn.model_selection import RandomizedSearchCV\n",
    "from xgboost import XGBRegressor\n",
    "\n",
    "param_grid = {\n",
    "    'n_estimators': [100, 200, 300],\n",
    "    'max_depth': [3, 5, 6, 8],\n",
    "    'learning_rate': [0.01, 0.05, 0.1],\n",
    "    'subsample': [0.7, 0.8, 1.0],\n",
    "    'colsample_bytree': [0.7, 0.8, 1.0]\n",
    "}\n",
    "\n",
    "xgb = XGBRegressor(random_state=42)\n",
    "random_search = RandomizedSearchCV(\n",
    "    xgb, param_distributions=param_grid,\n",
    "    n_iter=15, cv=5, verbose=1, n_jobs=-1, scoring='r2'\n",
    ")\n",
    "\n",
    "random_search.fit(X_train, y_train)\n",
    "\n",
    "print(\"✅ Best Params:\", random_search.best_params_)\n",
    "\n",
    "# Best model\n",
    "best_xgb = random_search.best_estimator_\n"
   ]
  },
  {
   "cell_type": "code",
   "execution_count": 39,
   "id": "aa828752-b3cf-49e2-949b-ce5f0d49392d",
   "metadata": {},
   "outputs": [
    {
     "name": "stderr",
     "output_type": "stream",
     "text": [
      "C:\\Users\\Asus\\AppData\\Local\\Temp\\ipykernel_21544\\2832066056.py:10: FutureWarning: \n",
      "\n",
      "Passing `palette` without assigning `hue` is deprecated and will be removed in v0.14.0. Assign the `y` variable to `hue` and set `legend=False` for the same effect.\n",
      "\n",
      "  sns.barplot(x=top_features, y=top_features.index, palette=\"viridis\")\n",
      "C:\\Users\\Asus\\AppData\\Local\\Temp\\ipykernel_21544\\2832066056.py:14: UserWarning: Glyph 128202 (\\N{BAR CHART}) missing from font(s) DejaVu Sans.\n",
      "  plt.tight_layout()\n",
      "C:\\Users\\Asus\\AppData\\Local\\Programs\\Python\\Python311\\Lib\\site-packages\\IPython\\core\\pylabtools.py:170: UserWarning: Glyph 128202 (\\N{BAR CHART}) missing from font(s) DejaVu Sans.\n",
      "  fig.canvas.print_figure(bytes_io, **kw)\n"
     ]
    },
    {
     "data": {
      "image/png": "[encoded data removed]",
      "text/plain": [
       "<Figure size 1000x800 with 1 Axes>"
      ]
     },
     "metadata": {},
     "output_type": "display_data"
    }
   ],
   "source": [
    "import matplotlib.pyplot as plt\n",
    "import seaborn as sns\n",
    "import pandas as pd\n",
    "\n",
    "# Get feature importances\n",
    "feature_importances = pd.Series(best_xgb.feature_importances_, index=X_train.columns)\n",
    "top_features = feature_importances.sort_values(ascending=False).head(25)\n",
    "\n",
    "plt.figure(figsize=(10, 8))\n",
    "sns.barplot(x=top_features, y=top_features.index, palette=\"viridis\")\n",
    "plt.title(\"📊 Top 25 Features Influencing IPL Auction Price\")\n",
    "plt.xlabel(\"Importance Score\")\n",
    "plt.ylabel(\"Feature\")\n",
    "plt.tight_layout()\n",
    "plt.show()\n"
   ]
  },
  {
   "cell_type": "code",
   "execution_count": 40,
   "id": "30abac51-b353-472f-b674-03721c608770",
   "metadata": {},
   "outputs": [
    {
     "name": "stdout",
     "output_type": "stream",
     "text": [
      "📈 Tuned XGBoost Performance:\n",
      "✅ R² Score: 0.428\n",
      "📉 MAE: ₹2.07 Cr\n",
      "📉 RMSE: ₹3.26 Cr\n"
     ]
    }
   ],
   "source": [
    "from sklearn.metrics import r2_score, mean_absolute_error, mean_squared_error\n",
    "import numpy as np\n",
    "\n",
    "y_pred_best = best_xgb.predict(X_test)\n",
    "\n",
    "r2 = r2_score(y_test, y_pred_best)\n",
    "mae = mean_absolute_error(y_test, y_pred_best)\n",
    "rmse = np.sqrt(mean_squared_error(y_test, y_pred_best))\n",
    "\n",
    "print(\"📈 Tuned XGBoost Performance:\")\n",
    "print(f\"✅ R² Score: {r2:.3f}\")\n",
    "print(f\"📉 MAE: ₹{mae:.2f} Cr\")\n",
    "print(f\"📉 RMSE: ₹{rmse:.2f} Cr\")\n"
   ]
  },
  {
   "cell_type": "code",
   "execution_count": 41,
   "id": "762daf3d-f9fd-48bb-a047-f7e3faeb21a9",
   "metadata": {},
   "outputs": [
    {
     "ename": "FileNotFoundError",
     "evalue": "[Errno 2] No such file or directory: 'player_stats_2025.csv'",
     "output_type": "error",
     "traceback": [
      "\u001b[1;31m---------------------------------------------------------------------------\u001b[0m",
      "\u001b[1;31mFileNotFoundError\u001b[0m                         Traceback (most recent call last)",
      "Cell \u001b[1;32mIn[41], line 2\u001b[0m\n\u001b[0;32m      1\u001b[0m \u001b[38;5;66;03m# Load 2025 player performance stats (already preprocessed like X_train)\u001b[39;00m\n\u001b[1;32m----> 2\u001b[0m X_2025 \u001b[38;5;241m=\u001b[39m \u001b[43mpd\u001b[49m\u001b[38;5;241;43m.\u001b[39;49m\u001b[43mread_csv\u001b[49m\u001b[43m(\u001b[49m\u001b[38;5;124;43m\"\u001b[39;49m\u001b[38;5;124;43mplayer_stats_2025.csv\u001b[39;49m\u001b[38;5;124;43m\"\u001b[39;49m\u001b[43m)\u001b[49m\n\u001b[0;32m      4\u001b[0m \u001b[38;5;66;03m# Clean column names (must match training set)\u001b[39;00m\n\u001b[0;32m      5\u001b[0m X_2025\u001b[38;5;241m.\u001b[39mcolumns \u001b[38;5;241m=\u001b[39m X_2025\u001b[38;5;241m.\u001b[39mcolumns\u001b[38;5;241m.\u001b[39mstr\u001b[38;5;241m.\u001b[39mreplace(\u001b[38;5;124m'\u001b[39m\u001b[38;5;124m[^A-Za-z0-9_]+\u001b[39m\u001b[38;5;124m'\u001b[39m, \u001b[38;5;124m'\u001b[39m\u001b[38;5;124m_\u001b[39m\u001b[38;5;124m'\u001b[39m, regex\u001b[38;5;241m=\u001b[39m\u001b[38;5;28;01mTrue\u001b[39;00m)\n",
      "File \u001b[1;32m~\\AppData\\Local\\Programs\\Python\\Python311\\Lib\\site-packages\\pandas\\io\\parsers\\readers.py:1026\u001b[0m, in \u001b[0;36mread_csv\u001b[1;34m(filepath_or_buffer, sep, delimiter, header, names, index_col, usecols, dtype, engine, converters, true_values, false_values, skipinitialspace, skiprows, skipfooter, nrows, na_values, keep_default_na, na_filter, verbose, skip_blank_lines, parse_dates, infer_datetime_format, keep_date_col, date_parser, date_format, dayfirst, cache_dates, iterator, chunksize, compression, thousands, decimal, lineterminator, quotechar, quoting, doublequote, escapechar, comment, encoding, encoding_errors, dialect, on_bad_lines, delim_whitespace, low_memory, memory_map, float_precision, storage_options, dtype_backend)\u001b[0m\n\u001b[0;32m   1013\u001b[0m kwds_defaults \u001b[38;5;241m=\u001b[39m _refine_defaults_read(\n\u001b[0;32m   1014\u001b[0m     dialect,\n\u001b[0;32m   1015\u001b[0m     delimiter,\n\u001b[1;32m   (...)\u001b[0m\n\u001b[0;32m   1022\u001b[0m     dtype_backend\u001b[38;5;241m=\u001b[39mdtype_backend,\n\u001b[0;32m   1023\u001b[0m )\n\u001b[0;32m   1024\u001b[0m kwds\u001b[38;5;241m.\u001b[39mupdate(kwds_defaults)\n\u001b[1;32m-> 1026\u001b[0m \u001b[38;5;28;01mreturn\u001b[39;00m \u001b[43m_read\u001b[49m\u001b[43m(\u001b[49m\u001b[43mfilepath_or_buffer\u001b[49m\u001b[43m,\u001b[49m\u001b[43m \u001b[49m\u001b[43mkwds\u001b[49m\u001b[43m)\u001b[49m\n",
      "File \u001b[1;32m~\\AppData\\Local\\Programs\\Python\\Python311\\Lib\\site-packages\\pandas\\io\\parsers\\readers.py:620\u001b[0m, in \u001b[0;36m_read\u001b[1;34m(filepath_or_buffer, kwds)\u001b[0m\n\u001b[0;32m    617\u001b[0m _validate_names(kwds\u001b[38;5;241m.\u001b[39mget(\u001b[38;5;124m\"\u001b[39m\u001b[38;5;124mnames\u001b[39m\u001b[38;5;124m\"\u001b[39m, \u001b[38;5;28;01mNone\u001b[39;00m))\n\u001b[0;32m    619\u001b[0m \u001b[38;5;66;03m# Create the parser.\u001b[39;00m\n\u001b[1;32m--> 620\u001b[0m parser \u001b[38;5;241m=\u001b[39m \u001b[43mTextFileReader\u001b[49m\u001b[43m(\u001b[49m\u001b[43mfilepath_or_buffer\u001b[49m\u001b[43m,\u001b[49m\u001b[43m \u001b[49m\u001b[38;5;241;43m*\u001b[39;49m\u001b[38;5;241;43m*\u001b[39;49m\u001b[43mkwds\u001b[49m\u001b[43m)\u001b[49m\n\u001b[0;32m    622\u001b[0m \u001b[38;5;28;01mif\u001b[39;00m chunksize \u001b[38;5;129;01mor\u001b[39;00m iterator:\n\u001b[0;32m    623\u001b[0m     \u001b[38;5;28;01mreturn\u001b[39;00m parser\n",
      "File \u001b[1;32m~\\AppData\\Local\\Programs\\Python\\Python311\\Lib\\site-packages\\pandas\\io\\parsers\\readers.py:1620\u001b[0m, in \u001b[0;36mTextFileReader.__init__\u001b[1;34m(self, f, engine, **kwds)\u001b[0m\n\u001b[0;32m   1617\u001b[0m     \u001b[38;5;28mself\u001b[39m\u001b[38;5;241m.\u001b[39moptions[\u001b[38;5;124m\"\u001b[39m\u001b[38;5;124mhas_index_names\u001b[39m\u001b[38;5;124m\"\u001b[39m] \u001b[38;5;241m=\u001b[39m kwds[\u001b[38;5;124m\"\u001b[39m\u001b[38;5;124mhas_index_names\u001b[39m\u001b[38;5;124m\"\u001b[39m]\n\u001b[0;32m   1619\u001b[0m \u001b[38;5;28mself\u001b[39m\u001b[38;5;241m.\u001b[39mhandles: IOHandles \u001b[38;5;241m|\u001b[39m \u001b[38;5;28;01mNone\u001b[39;00m \u001b[38;5;241m=\u001b[39m \u001b[38;5;28;01mNone\u001b[39;00m\n\u001b[1;32m-> 1620\u001b[0m \u001b[38;5;28mself\u001b[39m\u001b[38;5;241m.\u001b[39m_engine \u001b[38;5;241m=\u001b[39m \u001b[38;5;28;43mself\u001b[39;49m\u001b[38;5;241;43m.\u001b[39;49m\u001b[43m_make_engine\u001b[49m\u001b[43m(\u001b[49m\u001b[43mf\u001b[49m\u001b[43m,\u001b[49m\u001b[43m \u001b[49m\u001b[38;5;28;43mself\u001b[39;49m\u001b[38;5;241;43m.\u001b[39;49m\u001b[43mengine\u001b[49m\u001b[43m)\u001b[49m\n",
      "File \u001b[1;32m~\\AppData\\Local\\Programs\\Python\\Python311\\Lib\\site-packages\\pandas\\io\\parsers\\readers.py:1880\u001b[0m, in \u001b[0;36mTextFileReader._make_engine\u001b[1;34m(self, f, engine)\u001b[0m\n\u001b[0;32m   1878\u001b[0m     \u001b[38;5;28;01mif\u001b[39;00m \u001b[38;5;124m\"\u001b[39m\u001b[38;5;124mb\u001b[39m\u001b[38;5;124m\"\u001b[39m \u001b[38;5;129;01mnot\u001b[39;00m \u001b[38;5;129;01min\u001b[39;00m mode:\n\u001b[0;32m   1879\u001b[0m         mode \u001b[38;5;241m+\u001b[39m\u001b[38;5;241m=\u001b[39m \u001b[38;5;124m\"\u001b[39m\u001b[38;5;124mb\u001b[39m\u001b[38;5;124m\"\u001b[39m\n\u001b[1;32m-> 1880\u001b[0m \u001b[38;5;28mself\u001b[39m\u001b[38;5;241m.\u001b[39mhandles \u001b[38;5;241m=\u001b[39m \u001b[43mget_handle\u001b[49m\u001b[43m(\u001b[49m\n\u001b[0;32m   1881\u001b[0m \u001b[43m    \u001b[49m\u001b[43mf\u001b[49m\u001b[43m,\u001b[49m\n\u001b[0;32m   1882\u001b[0m \u001b[43m    \u001b[49m\u001b[43mmode\u001b[49m\u001b[43m,\u001b[49m\n\u001b[0;32m   1883\u001b[0m \u001b[43m    \u001b[49m\u001b[43mencoding\u001b[49m\u001b[38;5;241;43m=\u001b[39;49m\u001b[38;5;28;43mself\u001b[39;49m\u001b[38;5;241;43m.\u001b[39;49m\u001b[43moptions\u001b[49m\u001b[38;5;241;43m.\u001b[39;49m\u001b[43mget\u001b[49m\u001b[43m(\u001b[49m\u001b[38;5;124;43m\"\u001b[39;49m\u001b[38;5;124;43mencoding\u001b[39;49m\u001b[38;5;124;43m\"\u001b[39;49m\u001b[43m,\u001b[49m\u001b[43m \u001b[49m\u001b[38;5;28;43;01mNone\u001b[39;49;00m\u001b[43m)\u001b[49m\u001b[43m,\u001b[49m\n\u001b[0;32m   1884\u001b[0m \u001b[43m    \u001b[49m\u001b[43mcompression\u001b[49m\u001b[38;5;241;43m=\u001b[39;49m\u001b[38;5;28;43mself\u001b[39;49m\u001b[38;5;241;43m.\u001b[39;49m\u001b[43moptions\u001b[49m\u001b[38;5;241;43m.\u001b[39;49m\u001b[43mget\u001b[49m\u001b[43m(\u001b[49m\u001b[38;5;124;43m\"\u001b[39;49m\u001b[38;5;124;43mcompression\u001b[39;49m\u001b[38;5;124;43m\"\u001b[39;49m\u001b[43m,\u001b[49m\u001b[43m \u001b[49m\u001b[38;5;28;43;01mNone\u001b[39;49;00m\u001b[43m)\u001b[49m\u001b[43m,\u001b[49m\n\u001b[0;32m   1885\u001b[0m \u001b[43m    \u001b[49m\u001b[43mmemory_map\u001b[49m\u001b[38;5;241;43m=\u001b[39;49m\u001b[38;5;28;43mself\u001b[39;49m\u001b[38;5;241;43m.\u001b[39;49m\u001b[43moptions\u001b[49m\u001b[38;5;241;43m.\u001b[39;49m\u001b[43mget\u001b[49m\u001b[43m(\u001b[49m\u001b[38;5;124;43m\"\u001b[39;49m\u001b[38;5;124;43mmemory_map\u001b[39;49m\u001b[38;5;124;43m\"\u001b[39;49m\u001b[43m,\u001b[49m\u001b[43m \u001b[49m\u001b[38;5;28;43;01mFalse\u001b[39;49;00m\u001b[43m)\u001b[49m\u001b[43m,\u001b[49m\n\u001b[0;32m   1886\u001b[0m \u001b[43m    \u001b[49m\u001b[43mis_text\u001b[49m\u001b[38;5;241;43m=\u001b[39;49m\u001b[43mis_text\u001b[49m\u001b[43m,\u001b[49m\n\u001b[0;32m   1887\u001b[0m \u001b[43m    \u001b[49m\u001b[43merrors\u001b[49m\u001b[38;5;241;43m=\u001b[39;49m\u001b[38;5;28;43mself\u001b[39;49m\u001b[38;5;241;43m.\u001b[39;49m\u001b[43moptions\u001b[49m\u001b[38;5;241;43m.\u001b[39;49m\u001b[43mget\u001b[49m\u001b[43m(\u001b[49m\u001b[38;5;124;43m\"\u001b[39;49m\u001b[38;5;124;43mencoding_errors\u001b[39;49m\u001b[38;5;124;43m\"\u001b[39;49m\u001b[43m,\u001b[49m\u001b[43m \u001b[49m\u001b[38;5;124;43m\"\u001b[39;49m\u001b[38;5;124;43mstrict\u001b[39;49m\u001b[38;5;124;43m\"\u001b[39;49m\u001b[43m)\u001b[49m\u001b[43m,\u001b[49m\n\u001b[0;32m   1888\u001b[0m \u001b[43m    \u001b[49m\u001b[43mstorage_options\u001b[49m\u001b[38;5;241;43m=\u001b[39;49m\u001b[38;5;28;43mself\u001b[39;49m\u001b[38;5;241;43m.\u001b[39;49m\u001b[43moptions\u001b[49m\u001b[38;5;241;43m.\u001b[39;49m\u001b[43mget\u001b[49m\u001b[43m(\u001b[49m\u001b[38;5;124;43m\"\u001b[39;49m\u001b[38;5;124;43mstorage_options\u001b[39;49m\u001b[38;5;124;43m\"\u001b[39;49m\u001b[43m,\u001b[49m\u001b[43m \u001b[49m\u001b[38;5;28;43;01mNone\u001b[39;49;00m\u001b[43m)\u001b[49m\u001b[43m,\u001b[49m\n\u001b[0;32m   1889\u001b[0m \u001b[43m\u001b[49m\u001b[43m)\u001b[49m\n\u001b[0;32m   1890\u001b[0m \u001b[38;5;28;01massert\u001b[39;00m \u001b[38;5;28mself\u001b[39m\u001b[38;5;241m.\u001b[39mhandles \u001b[38;5;129;01mis\u001b[39;00m \u001b[38;5;129;01mnot\u001b[39;00m \u001b[38;5;28;01mNone\u001b[39;00m\n\u001b[0;32m   1891\u001b[0m f \u001b[38;5;241m=\u001b[39m \u001b[38;5;28mself\u001b[39m\u001b[38;5;241m.\u001b[39mhandles\u001b[38;5;241m.\u001b[39mhandle\n",
      "File \u001b[1;32m~\\AppData\\Local\\Programs\\Python\\Python311\\Lib\\site-packages\\pandas\\io\\common.py:873\u001b[0m, in \u001b[0;36mget_handle\u001b[1;34m(path_or_buf, mode, encoding, compression, memory_map, is_text, errors, storage_options)\u001b[0m\n\u001b[0;32m    868\u001b[0m \u001b[38;5;28;01melif\u001b[39;00m \u001b[38;5;28misinstance\u001b[39m(handle, \u001b[38;5;28mstr\u001b[39m):\n\u001b[0;32m    869\u001b[0m     \u001b[38;5;66;03m# Check whether the filename is to be opened in binary mode.\u001b[39;00m\n\u001b[0;32m    870\u001b[0m     \u001b[38;5;66;03m# Binary mode does not support 'encoding' and 'newline'.\u001b[39;00m\n\u001b[0;32m    871\u001b[0m     \u001b[38;5;28;01mif\u001b[39;00m ioargs\u001b[38;5;241m.\u001b[39mencoding \u001b[38;5;129;01mand\u001b[39;00m \u001b[38;5;124m\"\u001b[39m\u001b[38;5;124mb\u001b[39m\u001b[38;5;124m\"\u001b[39m \u001b[38;5;129;01mnot\u001b[39;00m \u001b[38;5;129;01min\u001b[39;00m ioargs\u001b[38;5;241m.\u001b[39mmode:\n\u001b[0;32m    872\u001b[0m         \u001b[38;5;66;03m# Encoding\u001b[39;00m\n\u001b[1;32m--> 873\u001b[0m         handle \u001b[38;5;241m=\u001b[39m \u001b[38;5;28mopen\u001b[39m(\n\u001b[0;32m    874\u001b[0m             handle,\n\u001b[0;32m    875\u001b[0m             ioargs\u001b[38;5;241m.\u001b[39mmode,\n\u001b[0;32m    876\u001b[0m             encoding\u001b[38;5;241m=\u001b[39mioargs\u001b[38;5;241m.\u001b[39mencoding,\n\u001b[0;32m    877\u001b[0m             errors\u001b[38;5;241m=\u001b[39merrors,\n\u001b[0;32m    878\u001b[0m             newline\u001b[38;5;241m=\u001b[39m\u001b[38;5;124m\"\u001b[39m\u001b[38;5;124m\"\u001b[39m,\n\u001b[0;32m    879\u001b[0m         )\n\u001b[0;32m    880\u001b[0m     \u001b[38;5;28;01melse\u001b[39;00m:\n\u001b[0;32m    881\u001b[0m         \u001b[38;5;66;03m# Binary mode\u001b[39;00m\n\u001b[0;32m    882\u001b[0m         handle \u001b[38;5;241m=\u001b[39m \u001b[38;5;28mopen\u001b[39m(handle, ioargs\u001b[38;5;241m.\u001b[39mmode)\n",
      "\u001b[1;31mFileNotFoundError\u001b[0m: [Errno 2] No such file or directory: 'player_stats_2025.csv'"
     ]
    }
   ],
   "source": [
    "# Load 2025 player performance stats (already preprocessed like X_train)\n",
    "X_2025 = pd.read_csv(\"player_stats_2025.csv\")\n",
    "\n",
    "# Clean column names (must match training set)\n",
    "X_2025.columns = X_2025.columns.str.replace('[^A-Za-z0-9_]+', '_', regex=True)\n",
    "\n",
    "# Ensure same columns as training set\n",
    "X_2025 = X_2025.reindex(columns=X_train.columns, fill_value=0)\n",
    "\n",
    "# Predict 2026 prices\n",
    "predicted_prices_2026 = best_xgb.predict(X_2025)\n",
    "\n",
    "# Attach to player names if available\n",
    "X_2025['Predicted_Price_2026_Cr'] = predicted_prices_2026\n",
    "\n",
    "# Save to CSV\n",
    "X_2025.to_csv(\"ipl_predicted_prices_2026.csv\", index=False)\n",
    "print(\"✅ Saved: ipl_predicted_prices_2026.csv\")\n"
   ]
  },
  {
   "cell_type": "code",
   "execution_count": 42,
   "id": "05524d58-98fc-4827-ac52-20efdd15b486",
   "metadata": {},
   "outputs": [
    {
     "name": "stdout",
     "output_type": "stream",
     "text": [
      "✅ Players in 2025: (72, 37)\n"
     ]
    }
   ],
   "source": [
    "# Filter players from 2025 season\n",
    "df_2025 = df[df[\"Year\"] == 2025].copy()\n",
    "print(\"✅ Players in 2025:\", df_2025.shape)\n",
    "\n",
    "\n",
    "# Drop columns not used in modeling (like actual price)\n",
    "df_2025_features = df_2025.drop([\"Price\", \"Price_Cr\"], axis=1, errors='ignore')\n",
    "\n",
    "# One-hot encode same way\n",
    "df_2025_encoded = pd.get_dummies(df_2025_features)\n",
    "\n",
    "# Clean column names\n",
    "df_2025_encoded.columns = df_2025_encoded.columns.str.replace('[^A-Za-z0-9_]+', '_', regex=True)\n",
    "\n",
    "# Match training feature columns\n",
    "df_2025_encoded = df_2025_encoded.reindex(columns=X_train.columns, fill_value=0)\n"
   ]
  },
  {
   "cell_type": "code",
   "execution_count": 43,
   "id": "d252d400-8a4b-4e2c-9ded-dacddce5cc1c",
   "metadata": {},
   "outputs": [
    {
     "name": "stdout",
     "output_type": "stream",
     "text": [
      "✅ Saved predicted prices to ipl_predicted_prices_2026.csv\n"
     ]
    }
   ],
   "source": [
    "# Predict 2026 prices\n",
    "predicted_prices_2026 = best_xgb.predict(df_2025_encoded)\n",
    "\n",
    "# Attach to names\n",
    "df_2025[\"Predicted_Price_2026_Cr\"] = predicted_prices_2026\n",
    "\n",
    "# Save to CSV\n",
    "df_2025[[\"Player_Name\", \"Predicted_Price_2026_Cr\"]].to_csv(\"ipl_predicted_prices_2026.csv\", index=False)\n",
    "print(\"✅ Saved predicted prices to ipl_predicted_prices_2026.csv\")\n"
   ]
  },
  {
   "cell_type": "code",
   "execution_count": null,
   "id": "33cdc985-e60c-4125-8d5e-1e9de35fbf4f",
   "metadata": {},
   "outputs": [],
   "source": []
  }
 ],
 "metadata": {
  "kernelspec": {
   "display_name": "Python 3 (ipykernel)",
   "language": "python",
   "name": "python3"
  },
  "language_info": {
   "codemirror_mode": {
    "name": "ipython",
    "version": 3
   },
   "file_extension": ".py",
   "mimetype": "text/x-python",
   "name": "python",
   "nbconvert_exporter": "python",
   "pygments_lexer": "ipython3",
   "version": "3.11.3"
  }
 },
 "nbformat": 4,
 "nbformat_minor": 5
}
